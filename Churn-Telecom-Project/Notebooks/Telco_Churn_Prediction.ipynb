{
 "cells": [
  {
   "cell_type": "markdown",
   "id": "af889126",
   "metadata": {},
   "source": [
    "\n",
    "# 📊 Telco Customer Churn Analysis\n",
    "\n",
    "## 🎯 Objective\n",
    "Exploratory analysis and predictive modeling to identify and forecast customer churn for a telecommunications company.\n",
    "\n",
    "---\n"
   ]
  },
  {
   "cell_type": "markdown",
   "id": "f346a274",
   "metadata": {},
   "source": [
    "\n",
    "## 📥 Data Loading and Initial Cleaning\n",
    "\n",
    "We load the Telco dataset, handle missing values, and convert necessary columns to the appropriate data types.\n"
   ]
  },
  {
   "cell_type": "code",
   "execution_count": null,
   "id": "d3b1bc54",
   "metadata": {},
   "outputs": [],
   "source": [
    "import pandas as pd      \n",
    "import numpy as np \n",
    "\n",
    "df = pd.read_csv('WA_Fn-UseC_-Telco-Customer-Churn.csv')\n",
    "print(df.isna().sum().sum())\n",
    "print((df == ' ').sum())\n",
    "df['TotalCharges'] = df['TotalCharges'].replace(' ', np.nan)\n",
    "df = df.dropna(subset=['TotalCharges'])\n",
    "df['TotalCharges'] = df['TotalCharges'].astype(float)\n",
    "df = df.drop('customerID', axis=1)\n"
   ]
  },
  {
   "cell_type": "markdown",
   "id": "5263bf04",
   "metadata": {},
   "source": [
    "\n",
    "## 📊 Target Variable Distribution: 'Churn'\n",
    "\n",
    "Visualize the proportion of customers who churned versus those who remained.\n"
   ]
  },
  {
   "cell_type": "code",
   "execution_count": null,
   "id": "6ea498a3",
   "metadata": {},
   "outputs": [],
   "source": [
    "import pandas as pd        \n",
    "import matplotlib.pyplot as plt  \n",
    "import seaborn as sns\n",
    "\n",
    "sns.countplot(x='Churn', data=df)\n",
    "plt.title('Distribution of Churn')\n",
    "plt.show()\n"
   ]
  },
  {
   "cell_type": "markdown",
   "id": "c6f8ef52",
   "metadata": {},
   "source": [
    "\n",
    "## 🔤 Encoding Categorical Variables\n",
    "\n",
    "Categorical columns are encoded using LabelEncoder to prepare the data for machine learning.\n"
   ]
  },
  {
   "cell_type": "code",
   "execution_count": null,
   "id": "35a18a60",
   "metadata": {},
   "outputs": [],
   "source": [
    "\n",
    "from sklearn.preprocessing import LabelEncoder\n",
    "\n",
    "le = LabelEncoder()\n",
    "cols_to_encode = [\n",
    "    'gender', 'Partner', 'Dependents', 'PhoneService', 'MultipleLines',\n",
    "    'InternetService', 'OnlineSecurity', 'OnlineBackup', 'DeviceProtection',\n",
    "    'TechSupport', 'StreamingTV', 'StreamingMovies', 'Contract',\n",
    "    'PaperlessBilling', 'PaymentMethod', 'Churn'\n",
    "]\n",
    "for col in cols_to_encode:\n",
    "    df[col] = le.fit_transform(df[col])\n"
   ]
  },
  {
   "cell_type": "markdown",
   "id": "db8984a0",
   "metadata": {},
   "source": [
    "\n",
    "## 🧪 Chi-Square Test for Categorical Feature Association with Churn\n",
    "\n",
    "We test the statistical association between categorical features and churn using the Chi-Square test.\n"
   ]
  },
  {
   "cell_type": "code",
   "execution_count": null,
   "id": "f19185c3",
   "metadata": {},
   "outputs": [],
   "source": [
    "\n",
    "from scipy.stats import chi2_contingency\n",
    "\n",
    "variables = []\n",
    "pvalues = []\n",
    "for col in cols_to_encode:\n",
    "    if col == 'Churn':\n",
    "        continue\n",
    "    table = pd.crosstab(df[col], df['Churn'])\n",
    "    chi2, p, _, _ = chi2_contingency(table)\n",
    "    print(f\"{col}: p-value = {p:.4f}\")\n",
    "    variables.append(col)\n",
    "    pvalues.append(p)\n",
    "plt.figure(figsize=(8, len(variables)))\n",
    "plt.barh(variables, pvalues)\n",
    "plt.axvline(0.05, color='red', linestyle='--')\n",
    "plt.xlabel('p-value')\n",
    "plt.title('Chi-Square Test with Churn')\n",
    "plt.tight_layout()\n",
    "plt.show()\n"
   ]
  },
  {
   "cell_type": "markdown",
   "id": "4afeb18a",
   "metadata": {},
   "source": [
    "\n",
    "## 📈 Correlation with Churn (Numerical Features)\n",
    "\n",
    "We calculate and interpret the correlation between numerical features and churn.\n"
   ]
  },
  {
   "cell_type": "code",
   "execution_count": null,
   "id": "f9d56010",
   "metadata": {},
   "outputs": [],
   "source": [
    "\n",
    "selected = df[['Churn', 'tenure', 'MonthlyCharges', 'TotalCharges', 'gender']]\n",
    "correlation = selected.corr(numeric_only=True)['Churn'].drop('Churn')\n",
    "print(\"Correlation with Churn:\")\n",
    "print(correlation)\n"
   ]
  },
  {
   "cell_type": "markdown",
   "id": "c37835c4",
   "metadata": {},
   "source": [
    "\n",
    "### 📝 Interpretation\n",
    "\n",
    "- ⏳ **Tenure**: -0.35 (moderate) — The longer a customer stays, the less likely they are to churn.\n",
    "- 💸 **MonthlyCharges**: +0.19 (weak positive) — Higher bills slightly increase the churn risk.\n",
    "- 🚻 **Gender**: 0.00 (no correlation) — Gender does not influence churn.\n"
   ]
  },
  {
   "cell_type": "markdown",
   "id": "b6a0d943",
   "metadata": {},
   "source": [
    "\n",
    "## 🧹 Data Preparation\n",
    "\n",
    "We define predictors and the target variable, and split the data into training and testing sets.\n"
   ]
  },
  {
   "cell_type": "code",
   "execution_count": null,
   "id": "0dc53bc3",
   "metadata": {},
   "outputs": [],
   "source": [
    "\n",
    "from sklearn.model_selection import train_test_split\n",
    "\n",
    "X = df.iloc[:, 0:19].values\n",
    "y = df.iloc[:, 19].values\n",
    "X_train, X_test, y_train, y_test = train_test_split(X, y, test_size=0.3, random_state=42)\n"
   ]
  },
  {
   "cell_type": "markdown",
   "id": "40162883",
   "metadata": {},
   "source": [
    "\n",
    "## 🤖 Model Training and Evaluation\n",
    "\n",
    "We train a Logistic Regression model and evaluate its performance using accuracy, confusion matrix, and classification report.\n"
   ]
  },
  {
   "cell_type": "code",
   "execution_count": null,
   "id": "0a26bd82",
   "metadata": {},
   "outputs": [],
   "source": [
    "\n",
    "from sklearn.linear_model import LogisticRegression\n",
    "from sklearn.metrics import accuracy_score, classification_report, confusion_matrix\n",
    "\n",
    "model = LogisticRegression()\n",
    "model.fit(X_train, y_train)\n",
    "y_pred = model.predict(X_test)\n",
    "print(\"🎯 Accuracy:\", accuracy_score(y_test, y_pred))\n",
    "print(\"\\n📉 Confusion Matrix:\")\n",
    "print(confusion_matrix(y_test, y_pred))\n",
    "print(\"\\n📋 Classification Report:\")\n",
    "print(classification_report(y_test, y_pred))\n"
   ]
  },
  {
   "cell_type": "markdown",
   "id": "bf3d2766",
   "metadata": {},
   "source": [
    "\n",
    "## 🧠 Predict Churn for New Customer (Example)\n",
    "\n",
    "We simulate the churn prediction for a new customer based on their service and contract attributes.\n"
   ]
  },
  {
   "cell_type": "code",
   "execution_count": null,
   "id": "5378d9f4",
   "metadata": {},
   "outputs": [],
   "source": [
    "\n",
    "new_customer = np.array([[1, 0, 0, 1, 0, 1, 0, 1, 0, 0, 0, 0, 1, 0, 2, 5, 70.35, 350.0, 0]])\n",
    "prediction = model.predict(new_customer)\n",
    "print(\"🔮 Churn prediction (0=No, 1=Yes):\", prediction[0])\n"
   ]
  },
  {
   "cell_type": "markdown",
   "id": "67b8cd43",
   "metadata": {},
   "source": [
    "\n",
    "## ✅ Conclusion\n",
    "\n",
    "In this notebook:\n",
    "\n",
    "- We performed data cleaning and preparation.\n",
    "- We explored categorical associations using Chi-Square tests.\n",
    "- We analyzed correlations between numerical features and churn.\n",
    "- We trained a Logistic Regression model to predict churn.\n",
    "- We applied the model to a new customer example.\n",
    "\n",
    "### 🎓 Knowledge Gained\n",
    "\n",
    "We learned how statistical tests (Chi-Square) help uncover important categorical predictors of churn. We also saw how numerical correlations provide insight into trends like tenure and billing. Logistic Regression enabled us to make meaningful predictions.\n",
    "\n",
    "### 📌 Business Value\n",
    "\n",
    "By identifying customers likely to churn, the company can take preventive actions to retain them—reducing revenue loss and improving customer loyalty.\n"
   ]
  }
 ],
 "metadata": {
  "language_info": {
   "name": "python"
  }
 },
 "nbformat": 4,
 "nbformat_minor": 5
}
